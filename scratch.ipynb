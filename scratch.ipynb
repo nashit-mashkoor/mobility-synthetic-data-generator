# from timeseries_generator import LinearTrend, Generator, WhiteNoise, RandomFeatureFactor
# import pandas as pd

# # setting up a linear tren
# lt = LinearTrend(coef=-4.0, offset=0.8, col_name="my_linear_trend")
# g = Generator(factors={lt}, features=None, base_value = 0.8, date_range=pd.date_range(start="01-01-2020", end="01-20-2020"))
# g.generate()
# g.plot()

# # update by adding some white noise to the generator
# wn = WhiteNoise(stdev_factor=0.05)
# g.update_factor(wn)
# print(g.generate())
# g.plot()

import numpy as np
import scipy.interpolate
import pylab

def create_data(n):
    """Given an integer n, returns n data points
    x and values y as a numpy.array."""
    xmax = 5.
    x = np.linspace(0, xmax, n)
    y = - x**2
    #make x-data somewhat irregular
    y += 1.5 * np.random.normal(size=len(x))
    return x, y

#main program
n = 10
x, y = create_data(n)

#use finer and regular mesh for plot
xfine = np.linspace(0.1, 4.9, n * 100)
#interpolate with piecewise constant function (p=0)
y0 = scipy.interpolate.interp1d(x, y, kind='nearest')
#interpolate with piecewise linear func (p=1)
y1 = scipy.interpolate.interp1d(x, y, kind='linear')
#interpolate with piecewise constant func (p=2)
y2 = scipy.interpolate.interp1d(x, y, kind='quadratic')

pylab.plot(x, y, 'o', label='data point')
pylab.plot(xfine, y0(xfine), label='nearest')
pylab.plot(xfine, y1(xfine), label='linear')
pylab.plot(xfine, y2(xfine), label='cubic')
pylab.legend()
pylab.xlabel('x')